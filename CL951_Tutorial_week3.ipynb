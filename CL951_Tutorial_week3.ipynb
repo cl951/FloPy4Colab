{
  "nbformat": 4,
  "nbformat_minor": 0,
  "metadata": {
    "colab": {
      "name": "CL951_Tutorial_week3.ipynb",
      "provenance": [],
      "collapsed_sections": [
        "BKWxutFbhMcZ"
      ],
      "authorship_tag": "ABX9TyNxQZk26Z9BjhaaaPbvOcUS",
      "include_colab_link": true
    },
    "kernelspec": {
      "name": "python3",
      "display_name": "Python 3"
    }
  },
  "cells": [
    {
      "cell_type": "markdown",
      "metadata": {
        "id": "view-in-github",
        "colab_type": "text"
      },
      "source": [
        "<a href=\"https://colab.research.google.com/github/cl951/FloPy4Colab/blob/main/CL951_Tutorial_week3.ipynb\" target=\"_parent\"><img src=\"https://colab.research.google.com/assets/colab-badge.svg\" alt=\"Open In Colab\"/></a>"
      ]
    },
    {
      "cell_type": "markdown",
      "metadata": {
        "id": "BKWxutFbhMcZ"
      },
      "source": [
        "# Step 1. Text Blocks\r\n",
        "This is a text block. You can use it to describe what you are doing. Double click the block to enter edit mode. Add your name below:\r\n",
        "\r\n",
        "Name: \r\n",
        "\r\n",
        "Date:\r\n",
        "\r\n",
        "This text is in MarkDown format, for more information see: https://www.markdownguide.org/basic-syntax/. MarkDown uses very simple tags to format text. To make a line a heading, add a hashtag (#) in front of the line. To make text bold surround it by two asterisks on both sides, **like this.**. For italics, use *single asterisks.*  If you're working in Google Colab, there will also be a set of buttons on the top of the screen to format the text.\r\n",
        "\r\n",
        "**When done press SHIFT-ENTER**\r\n",
        "\r\n"
      ]
    },
    {
      "cell_type": "markdown",
      "metadata": {
        "id": "Zbm0KVcf79nb"
      },
      "source": [
        "# Step 2: Code blocks\r\n",
        "\r\n",
        "Grey blocks like the one under this text block are code blocks. In these blocks you can type Python code. The results of your code (calculations, text, figures will appear below the code block.\r\n",
        "\r\n",
        "In the code block below you will see the statement 'print('Hello World!')'. This tells Python to write the text 'Hello World!' to the screen. Move the mouse over the open brackets to the left of the statement. An arrow will appear, **click the arrow to run the code**. The text 'Hello World!' should appear below the code block.\r\n",
        "\r\n",
        "Now double click the code block. You can now edit the code. Change the code so that it prints 'Hello Universe!. Make sure that the text is surrounded by quotation marks. You can use both 'single' and \"double\" quotation marks in Python, as long as you don't mix them. When you're done press **SHIFT ENTER** to stop editing the block and run the code."
      ]
    },
    {
      "cell_type": "code",
      "metadata": {
        "colab": {
          "base_uri": "https://localhost:8080/"
        },
        "id": "82ee7Ub4guZg",
        "outputId": "39f8efdc-8003-47fd-a77a-b28ec80d7c78"
      },
      "source": [
        "print(\"Hello World!\")"
      ],
      "execution_count": null,
      "outputs": [
        {
          "output_type": "stream",
          "text": [
            "Hello World!\n"
          ],
          "name": "stdout"
        }
      ]
    },
    {
      "cell_type": "markdown",
      "metadata": {
        "id": "fdligR9iLdSJ"
      },
      "source": [
        "# Step 3: Calculations\r\n",
        "\r\n",
        "We can use Python to perform basic calculations. **In the code block below enter ``24*60*60`` (without the quotation marks) and press SHIFT ENTER.** The answer should be printed below the block.\r\n",
        "\r\n",
        "You can use:\r\n",
        "\r\n",
        "- `*` to mutiply\r\n",
        "- `/` to divide\r\n",
        "- `+` to add\r\n",
        "- `-` to subtract. \r\n",
        "\r\n",
        "Powers and roots are a bit more complicated, so we will look at that later in the lesson.\r\n",
        "\r\n",
        "**Use Python to calculate the number os seconds in a a year (not a leap year, so 365 days)**\r\n"
      ]
    },
    {
      "cell_type": "code",
      "metadata": {
        "colab": {
          "base_uri": "https://localhost:8080/"
        },
        "id": "EjkhUem7-8BP",
        "outputId": "10d092dc-4fd9-4f3b-f456-6fe0c081205c"
      },
      "source": [
        "24*60*60"
      ],
      "execution_count": null,
      "outputs": [
        {
          "output_type": "execute_result",
          "data": {
            "text/plain": [
              "86400"
            ]
          },
          "metadata": {
            "tags": []
          },
          "execution_count": 3
        }
      ]
    },
    {
      "cell_type": "markdown",
      "metadata": {
        "id": "M3do5LOOsQvQ"
      },
      "source": [
        "# Step 4: Variables\r\n",
        "\r\n",
        "Variables in Python are created automatically when you assign a value to them. You do this by typing the name you want the variable to have, followed by an equals sign, followed by the value you want to assign. Python will automatically work out what the type of the variable is. **Run the code in the code block below.** \r\n",
        "\r\n",
        "When you run the code, it will look like nothing has happened, Python doesn't print any output. This is because we have created a variable and assigned a value, but not produced anything to output. **Add the line 'print( a )'** somewhere below the 'a = 12' line. **Run the code.**\r\n",
        "\r\n",
        "Python will now print the value of a under the code block. This means that we have indeed created a variable a and given it the value of 12. Now let's use this for something a little more usefull. Change the code to look like:\r\n",
        "\r\n",
        "*a = 12*\r\n",
        "\r\n",
        "*b = a * 2*\r\n",
        "\r\n",
        "*print( a )*\r\n",
        "\r\n",
        "*print( b )*\r\n",
        "\r\n",
        "**Run the code.** This will print the numbers 12 and 24. 12 is the value of a and 24 is the value of b. We first create a value a and give it the value 12, then we create a new value b and assign it the value of a times 2. This is a very simple example, but we can use this to perform much more complicated calculations."
      ]
    },
    {
      "cell_type": "code",
      "metadata": {
        "id": "-TG9pQCuL2XH",
        "colab": {
          "base_uri": "https://localhost:8080/"
        },
        "outputId": "ad56cdc5-997e-41a2-c2c2-b0336c6656f5"
      },
      "source": [
        "a = 12\r\n",
        "\r\n",
        "\r\n",
        "\r\n",
        "\r\n",
        "\r\n"
      ],
      "execution_count": null,
      "outputs": [
        {
          "output_type": "stream",
          "text": [
            "12\n",
            "24\n"
          ],
          "name": "stdout"
        }
      ]
    },
    {
      "cell_type": "markdown",
      "metadata": {
        "id": "OxgquMGZxMv_"
      },
      "source": [
        "# Step 4: Variable names\r\n",
        "When you're just trying things out, it is fine to have variables named **a** or **b** or **x**, etc. However if you want other people to understand your code than they will struggle to understand what these are for. The same is true if you want to come back to the work in a couple of months, the meaning of a and be will likely be a mystery. It is therefore important to recognize that code is a form of communication, you write it for other people, not for the computer. Even at the moment you are writing the code, you will benefit from picking meaningful names for variables. When you see:\r\n",
        "\r\n",
        "*casing_cost_perm_m * depth_of_well / hydraulic_conductivity* \r\n",
        "\r\n",
        "It is much easier to spot that there is probably something wrong (how can a cost and hydraulic conductivity possibly belong in the same formula?) than when you see:\r\n",
        "\r\n",
        "*c * Wd / K* \r\n",
        "\r\n",
        "The caveat is that simply writing everything in full as in the example above isn't always the best either. It makes for very long code, which can be more difficult to read. Also when you are implementing well known formulas, e.g. Darcy's law, the commonly used one letter variable names might be perfectly clear. There are no simple rules to follow, the choice between descriptiveness and brevity is a bit of a black art. I would suggest avoiding one or two letter variable names in general and only make exceptions for very commonly used variables in your code (e.g. K for hydraulic conductivity). Typing takes up only a very small amount of time when coding, it is hunting for errors that takes up most time.\r\n",
        "\r\n",
        "**Use Python to calculate the volume of a well using descriptive variable names. Assume the well radius is 10cm and the depth is 25m. Use the print() function to display the result to the screen.**"
      ]
    },
    {
      "cell_type": "code",
      "metadata": {
        "id": "xY5uZCBIrpM3"
      },
      "source": [
        ""
      ],
      "execution_count": null,
      "outputs": []
    },
    {
      "cell_type": "markdown",
      "metadata": {
        "id": "SK7YQ7LtC3C6"
      },
      "source": [
        "#Step 5: Variable Types\r\n",
        "Computers use different approaches to storing different types of data. For example: text is stored as a sequence of characters called a string. Numbers on the other hand are stored as values. Computers also use different types of variables for floating point numbers (e.g. 3.1415) than for integers (e.g. 1, 2, 3, etc). You can use the type() function to find out which type a variabel is.\r\n",
        "\r\n",
        "**Enter the following code in the box below:**\r\n",
        "\r\n",
        "*a = 5*\r\n",
        "\r\n",
        "*print( type( a ) )*\r\n",
        "\r\n",
        "*b = 5.0*\r\n",
        "\r\n",
        "*print( type( b ))*\r\n",
        "\r\n",
        "*c = a + b*\r\n",
        "\r\n",
        "*print( type( c ))*\r\n",
        "\r\n",
        "*d = 'This is a string'*\r\n",
        "\r\n",
        "*print( type( d ) )*\r\n",
        "\r\n",
        "*When you run this code, you should see that the first variable a is an integer (int). Integers can only store whole numbers. You create integers in Python by assigning a whole number. The next variable (b) is a floating point number (float). Floats can store almost every real number, limited only by their precision. You create a floating point number by assigning a number with a decimal, or even just the decimal point (e.g. a = 1.2 or b = 7.). When you combine an integer with a float, like in c = a + b, Python will automatically convert the integer to a float, to allow the calculation to work. The last variable d is a string. You create strings by assigning something between single or double quotation marks. It doesn't matter which on you use, as long as you don't mix them.*\r\n",
        "\r\n"
      ]
    },
    {
      "cell_type": "code",
      "metadata": {
        "id": "YijDsdTwE-ro"
      },
      "source": [
        ""
      ],
      "execution_count": null,
      "outputs": []
    },
    {
      "cell_type": "markdown",
      "metadata": {
        "id": "80wyYrzShDah"
      },
      "source": [
        "# Step 6: Type conversion\r\n",
        "\r\n",
        "You can't simply mix variables of different types. Some of this will make intuitive sense; it is pretty obvious that you can't add the number 55 to the text 'Glasgow'. However what if you want to use a numeric value that you have calculated in a bit of text? For example 'The aquifer porosity is 22%'. Or what if you have a number in text format '244'. In all these cases it means that you need to convert your data from one type to another.\r\n",
        "\r\n",
        "\r\n",
        "**In the box below  enter the following code:**\r\n",
        "\r\n",
        "*my_name = 'Henry Darcy'*\r\n",
        "\r\n",
        "*a = 5*\r\n",
        "\r\n",
        "*print('Hello ' + my_name)*\r\n",
        "\r\n",
        "*print('Hello ' + a)*\r\n",
        "\r\n",
        "When you run this code, the first three lines will run without problems. Python is happy to assign the variables, add two bits of text (strings) together to form a longer text, and add two numbers (a + 6) together. Python throws an error at the last line: you can not add a number to a string. To fix this we need to convert the number to a string, so that we are adding two strings together. You do that with the str() function.\r\n",
        "\r\n",
        "Change the last line to:\r\n",
        "\r\n",
        "*print('Hello ' + str(a) )*\r\n"
      ]
    },
    {
      "cell_type": "code",
      "metadata": {
        "id": "dgSbpFurErf9"
      },
      "source": [
        ""
      ],
      "execution_count": null,
      "outputs": []
    },
    {
      "cell_type": "markdown",
      "metadata": {
        "id": "qoVPlZIDh8X_"
      },
      "source": [
        "#Step 7: Booleans\r\n",
        "\r\n",
        "Boolean logic is a branch of mathematics that deals with variables that are either True or False. It is used very commonly in computer programming. They are often used as a result of a test:\r\n",
        "\r\n",
        "*well_dry = h < well_bottom_elevation*\r\n",
        "\r\n",
        "If the head is below the depth of the well, the well must be dry, so this code will yield **True**, meaning the well is dry. If h is above the well bottom, the code will yield **False**, meaning the well has water in it.\r\n",
        "\r\n",
        "We can also create booleans by assigning True or False to the variable. This is often done to create on-off switches in code. For example:\r\n",
        "\r\n",
        "*well_uses_casing = True*\r\n",
        "\r\n",
        "Code further on in the program could use this variable, for example when calculating the cost of the well, to include the cost of casing or ignore it.\r\n",
        "\r\n",
        "**Write Python code that creates variables for hydraulic head (= 12m) and well bottom elevation (= 10m). The code then tests if the well is dry, as in the example above, and prints the resulting boolean variable to the screen (print( well_dry) )**\r\n"
      ]
    },
    {
      "cell_type": "code",
      "metadata": {
        "colab": {
          "base_uri": "https://localhost:8080/"
        },
        "id": "jwYUHv-_ii4Z",
        "outputId": "1fd11b2c-c7f2-48c3-d13f-ab26a6adb106"
      },
      "source": [
        "print( True) "
      ],
      "execution_count": null,
      "outputs": [
        {
          "output_type": "stream",
          "text": [
            "True\n"
          ],
          "name": "stdout"
        }
      ]
    },
    {
      "cell_type": "markdown",
      "metadata": {
        "id": "vhglCy5DnXx6"
      },
      "source": [
        "#Step 8: Comments\r\n",
        "\r\n",
        "As noted before, code is written for humans more than for computers. It is really important to make your code easy to understand, both for yourself and for coworkers. The main tool for doing so is descriptive names for variables and functions. In additon you can use comments. Comments are bits of text that are ignored by Python, and are only there to explain key parts of your code.\r\n",
        "\r\n",
        "You create a comment in Python by putting a hashtag (#) in front of the text. For example:\r\n",
        "\r\n",
        "*# This parameter can be used to turn casing on or off in the well cost calculations:*\r\n",
        "\r\n",
        "*well_uses_casing = True*\r\n",
        "\r\n",
        "You can also comments after a line of code like this:\r\n",
        "\r\n",
        "*r = 2.56*\r\n",
        "\r\n",
        "*pi = 3.1415*\r\n",
        "\r\n",
        "\r\n",
        "*c = 2 * pi * r    #Calculate the circle circumference*\r\n",
        "\r\n",
        "\r\n",
        "This works, but using descriptive variable names reduces the need for comments:\r\n",
        "\r\n",
        "*radius = 2.56*\r\n",
        "\r\n",
        "*pi = 3.1415*\r\n",
        "\r\n",
        "*circumference = 2 * pi * radius*\r\n",
        "\r\n",
        "**The code below results in an error, because the comments aren't formatted properly. Please fix the code to make sure it runs.**"
      ]
    },
    {
      "cell_type": "code",
      "metadata": {
        "id": "4837QsmSltMV",
        "colab": {
          "base_uri": "https://localhost:8080/",
          "height": 133
        },
        "outputId": "c9e4d88f-bf46-4371-8dde-577b925a2299"
      },
      "source": [
        "Calculate well bottom elevation:\r\n",
        "surface_elevation = 25 #metre\r\n",
        "well_depth = 36 metre\r\n",
        "well_bottom_elevation = surface_elevation - well_depth\r\n",
        "print( 'The elevation of the bottom of the well is: ' + str( well_bottom_elevation ) + ' m')"
      ],
      "execution_count": 5,
      "outputs": [
        {
          "output_type": "error",
          "ename": "SyntaxError",
          "evalue": "ignored",
          "traceback": [
            "\u001b[0;36m  File \u001b[0;32m\"<ipython-input-5-aa99a42a7a22>\"\u001b[0;36m, line \u001b[0;32m1\u001b[0m\n\u001b[0;31m    Calculate well bottom elevation:\u001b[0m\n\u001b[0m                 ^\u001b[0m\n\u001b[0;31mSyntaxError\u001b[0m\u001b[0;31m:\u001b[0m invalid syntax\n"
          ]
        }
      ]
    },
    {
      "cell_type": "markdown",
      "metadata": {
        "id": "69TDOylinhTJ"
      },
      "source": [
        "#Step 9: Functions\r\n",
        "\r\n",
        "As programs get longer and longer, it gets harder and harder to wrap our heads around what is going on in there. If your code gets longer than one page, you will probably need to start breakingit up into smaller bits. One of the tools we have for this are called functions. Functions also help re-use code. If we calculate the same thing repeatedly, for example we have 10 wells and want to calculate the bottom elevation for all of them. We could copy and paste the code 10 times, but that will be messy and can easily introduce errors.\r\n",
        "\r\n",
        ">>\r\n",
        "\r\n",
        "Let's try it out:\r\n",
        "\r\n",
        "def well_bottom_elevation( well_depth, surface_elevation ):\r\n",
        ">return surface_elevation - well_depth\r\n",
        "\r\n",
        "well1_bottom_elevation = well_bottom_elevation( 36, 25)\r\n",
        "well2_bottom_elevation = well_bottom_elevation( 42, 12) \r\n",
        ">>\r\n",
        "\r\n",
        "\r\n",
        "\r\n",
        "To create a function, we need to define this. We do this by typing **def** this is followed by the function name, followed by the input arguments between brackets. Here we need two input arguments: well depth and surface elevation. After this a colon **(:)** is used. \r\n",
        "\r\n",
        "The next lines contain the code for the function. In Python this code needs to start a bit to the right, you can do this with spaces or tabs. It is generally recommended to use 4 spaces or a tab. Indentation is really important in Python it groups statements together that belong together, in this case all the commands that together form  our function. When you are done with the code for the function, you just start typing code without the extra spaces. This tells Python that that code is part of the main program again. Functions need to return a result to the main program, that is done with the return command. \r\n",
        "You can use a function, this is called calling a function, by typing the function name and in between brackets the input parameters.\r\n",
        "\r\n",
        "**The text below includes a function to calculate the volume of a cylinder. Expand the code to also calculate the volume of cylinder 2.**\r\n",
        "\r\n",
        "**After that write a new function that calculates the volume of cubes. This function will take 3 input parameters. NB technically it's not a cube, as the dimensions are different in the x, y and z direction, but irregular parallelepiped is a bit confusing.**"
      ]
    },
    {
      "cell_type": "code",
      "metadata": {
        "id": "rZIS3lrFnhtx",
        "colab": {
          "base_uri": "https://localhost:8080/"
        },
        "outputId": "480d3bd5-949d-4d21-f3a2-30f426fc2298"
      },
      "source": [
        "def cylinder_volume( radius, height ):\r\n",
        "    pi = 3.1415\r\n",
        "    area = radius * radius * pi\r\n",
        "    volume = area * height\r\n",
        "    return volume\r\n",
        "\r\n",
        "# Cylinder 1:\r\n",
        "radius1 = 5 #m\r\n",
        "height1 = 10 #m\r\n",
        "\r\n",
        "volume1 = cylinder_volume( radius1, height1)\r\n",
        "print( volume1 )\r\n",
        "\r\n",
        "# Cylinder 2:\r\n",
        "radius2 = 12.5 #m\r\n",
        "height1 = 8 #m\r\n",
        "\r\n",
        "# Please calculate the volume of Cylinder2 here:\r\n",
        "\r\n",
        "\r\n",
        "# Cube1:\r\n",
        "cube_height = 12\r\n",
        "cube_width = 2.4\r\n",
        "cube_length = 3.6\r\n",
        "\r\n",
        "# Please calculate the volume of Cube 1 here, by writing a new function.\r\n",
        "\r\n"
      ],
      "execution_count": 7,
      "outputs": [
        {
          "output_type": "stream",
          "text": [
            "785.3750000000001\n"
          ],
          "name": "stdout"
        }
      ]
    },
    {
      "cell_type": "markdown",
      "metadata": {
        "id": "WtNyT7yunohw"
      },
      "source": [
        "#Step 10: Libraries: Math\r\n",
        "\r\n",
        "As you have seen functions are really useful for organizing code. The next step is to organize functions into libraries. Libraries are collections of related functions. We can import these into our Python environment so that we can use them. Libraries can be written in Python or other languages. Many libraries are written in faster languages, so that our code runs as fast as possible.\r\n",
        "\r\n",
        "To add a library to our Python environment we use the import command:\r\n",
        "\r\n",
        "*import math*\r\n",
        "\r\n",
        "*print( math.sqrt( 16 ))*\r\n",
        "\r\n",
        "The code above imports the math library. We can then use it by typing the name of the library, followed by a dot, followed by the variable or function we want. This example uses the math.sqrt() function to calculate the square root. The math library is full of useful math functions, like powers, sin, cos, log, etc.\r\n",
        "To see what functions are available in a library, type the name of the library followed by a dot and wait a second. A list will popup with all the functions and values in the library.\r\n",
        "\r\n",
        "**In the code block below, import the math library and see what functions are available.**"
      ]
    },
    {
      "cell_type": "code",
      "metadata": {
        "id": "P_5Vz61bnvlt",
        "colab": {
          "base_uri": "https://localhost:8080/"
        },
        "outputId": "fd7fb582-3ab4-40e6-c259-30dc6c143604"
      },
      "source": [
        "import math\r\n",
        "\r\n",
        "print( math.sqrt( 16 ))"
      ],
      "execution_count": 12,
      "outputs": [
        {
          "output_type": "stream",
          "text": [
            "4.0\n"
          ],
          "name": "stdout"
        }
      ]
    },
    {
      "cell_type": "markdown",
      "metadata": {
        "id": "uR6MOG6Znvzx"
      },
      "source": [
        "#Step 11: Libraries: MatPlotLib\r\n",
        "\r\n",
        "The Math library is very useful, but it only allows you to make calculations with single numbers (scalars). In many cases in scientific computation we want to be able to work with lots of numbers: matrices and vectors. For this NumPy can be used. If you've ever used MATLAB, Numpy will feel very familiar.\r\n",
        "\r\n",
        "Another really useful library is MatPlotLib, which allows us to make nice figures.\r\n",
        "\r\n",
        "*import numpy as np*\r\n",
        "\r\n",
        "*import matplotlib.pyplot as plt*\r\n",
        "\r\n",
        "*x = np.arange(0, math.pi*2, 0.1)*\r\n",
        "\r\n",
        "*y = np.sin( x)*\r\n",
        "\r\n",
        "*plt.plot( x, y)*\r\n",
        "\r\n",
        "This code imports the Numpy library. We nickname it np, as typing Numpy in every calculation can be tiresome. Using np as short for numpy is really common. Similarly we import the pyplot library as plt.\r\n",
        "\r\n",
        "Next we create a vector x , which starts at 0, and goes up to 2*pi in steps of 0.1. Next we calculate the sin for every element of x and store the result in y. Lastly we make a plot of x against y.\r\n",
        "\r\n",
        "**Adjust the code below, to plot the cos of 2*pi to 4*pi**"
      ]
    },
    {
      "cell_type": "code",
      "metadata": {
        "id": "0e4QQXxfn0Be",
        "colab": {
          "base_uri": "https://localhost:8080/",
          "height": 283
        },
        "outputId": "d70e6248-ab1b-4534-8ed9-f1f104edf05e"
      },
      "source": [
        "import numpy as np\r\n",
        "import matplotlib.pyplot as plt\r\n",
        "\r\n",
        "\r\n",
        "x = np.arange(0, math.pi*2, 0.1)\r\n",
        "y = np.sin( x)\r\n",
        "\r\n",
        "\r\n",
        "plt.plot( x, y)\r\n"
      ],
      "execution_count": 22,
      "outputs": [
        {
          "output_type": "execute_result",
          "data": {
            "text/plain": [
              "[<matplotlib.lines.Line2D at 0x7fa64030c320>]"
            ]
          },
          "metadata": {
            "tags": []
          },
          "execution_count": 22
        },
        {
          "output_type": "display_data",
          "data": {
            "image/png": "[encoded data removed]",
            "text/plain": [
              "<Figure size 432x288 with 1 Axes>"
            ]
          },
          "metadata": {
            "tags": [],
            "needs_background": "light"
          }
        }
      ]
    }
  ]
}